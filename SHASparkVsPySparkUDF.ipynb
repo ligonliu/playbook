{
 "cells": [
  {
   "cell_type": "markdown",
   "metadata": {},
   "source": [
    "# initialize Spark session in single task mode"
   ]
  },
  {
   "cell_type": "code",
   "execution_count": 1,
   "metadata": {},
   "outputs": [],
   "source": [
    "from pyspark.sql import SparkSession\n",
    "spark = SparkSession.builder \\\n",
    "    .appName(\"SingleTaskApp\") \\\n",
    "    .master(\"local[1]\") \\\n",
    "    .getOrCreate()\n",
    "\n",
    "sc = spark.sparkContext"
   ]
  },
  {
   "cell_type": "markdown",
   "metadata": {},
   "source": [
    "# generate 1 million random strings with random length between 1 and 20000"
   ]
  },
  {
   "cell_type": "code",
   "execution_count": null,
   "metadata": {},
   "outputs": [],
   "source": [
    "spark.sql(\"\"\"\n",
    "    WITH t1 AS (\n",
    "      SELECT rand() * 19999 + 1 AS str_len\n",
    "      FROM range(1000000)\n",
    "    )\n",
    "    SELECT\n",
    "      substr(\n",
    "        base64(\n",
    "          randstr(20000)\n",
    "        ), 1, str_len\n",
    "      ) as str\n",
    "    FROM t1\n",
    "\"\"\").write.mode(\"overwrite\").parquet(\"randstring.parquet\")\n"
   ]
  },
  {
   "cell_type": "markdown",
   "metadata": {},
   "source": [
    "# First approach: Using spark SQL built-in functions"
   ]
  },
  {
   "cell_type": "code",
   "execution_count": null,
   "metadata": {},
   "outputs": [],
   "source": [
    "spark.sql(\"\"\"\n",
    "    SELECT str, sha2(str, 256) as hash \n",
    "    FROM parquet.`randstring.parquet`\n",
    "\"\"\").write.mode(\"overwrite\").parquet(\"randsha.parquet\")\n",
    "\n"
   ]
  },
  {
   "cell_type": "markdown",
   "metadata": {},
   "source": [
    "completes in 70.2s"
   ]
  },
  {
   "cell_type": "markdown",
   "metadata": {},
   "source": [
    "# Second approach: Using Python's hashlib as UDF"
   ]
  },
  {
   "cell_type": "code",
   "execution_count": null,
   "metadata": {},
   "outputs": [],
   "source": [
    "from pyspark.sql.functions import udf\n",
    "from pyspark.sql.types import StringType\n",
    "import hashlib\n",
    "\n",
    "@udf(returnType=StringType())\n",
    "def sha256_hash(text):\n",
    "    return hashlib.sha256(text.encode()).hexdigest()\n",
    "\n",
    "spark.read.parquet(\"randstring.parquet\") \\\n",
    "    .withColumn(\"hash\", sha256_hash(\"str\")) \\\n",
    "    .write.mode(\"overwrite\").parquet(\"randsha2.parquet\")"
   ]
  },
  {
   "cell_type": "markdown",
   "metadata": {},
   "source": [
    "completes in 77.2s"
   ]
  },
  {
   "cell_type": "markdown",
   "metadata": {},
   "source": [
    "# Conclusion\n",
    "\n",
    "PySpark's python UDF has limited overhead reflected by comparing Spark's native SHA256 hash function and python's SHA256 hash function as UDF."
   ]
  }
 ],
 "metadata": {
  "kernelspec": {
   "display_name": ".venv",
   "language": "python",
   "name": "python3"
  },
  "language_info": {
   "codemirror_mode": {
    "name": "ipython",
    "version": 3
   },
   "file_extension": ".py",
   "mimetype": "text/x-python",
   "name": "python",
   "nbconvert_exporter": "python",
   "pygments_lexer": "ipython3",
   "version": "3.13.3"
  }
 },
 "nbformat": 4,
 "nbformat_minor": 2
}
