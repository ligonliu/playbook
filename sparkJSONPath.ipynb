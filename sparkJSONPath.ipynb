{
 "cells": [
  {
   "cell_type": "markdown",
   "metadata": {},
   "source": [
    "### sparkJSONPath demo\n",
    "\n",
    "This notebook demonstrates a powerful approach to processing semi-structured data at scale by integrating Apache Spark with the `jsonpath-ng` library. When dealing with terabyte-level JSON datasets, traditional parsing methods can be inefficient. By leveraging Spark's distributed computing capabilities and the flexible querying power of JSONPath, we can perform complex data extraction and manipulation tasks with high performance. \n",
    "\n",
    "This solution showcases how to define and apply User-Defined Functions (UDFs) in Spark SQL to query nested JSON objects, enabling efficient analysis of massive complex datasets, such as the FHIR EMR records used in this example."
   ]
  },
  {
   "cell_type": "code",
   "execution_count": 9,
   "metadata": {},
   "outputs": [],
   "source": [
    "from pyspark.sql import SparkSession\n",
    "\n",
    "spark = SparkSession.builder \\\n",
    "    .appName(\"SingleTaskApp\") \\\n",
    "    .master(\"local[1]\") \\\n",
    "    .config('spark.sql.execution.arrow.pyspark.enabled', 'true') \\\n",
    "    .getOrCreate()\n",
    "\n",
    "sc = spark.sparkContext\n",
    "\n",
    "from sparkJSONPath import *"
   ]
  },
  {
   "cell_type": "code",
   "execution_count": null,
   "metadata": {},
   "outputs": [],
   "source": [
    "import os,requests,zipfile\n",
    "\n",
    "def download_and_extract(url, dest_path):\n",
    "    if not os.path.exists(dest_path):\n",
    "        os.makedirs(dest_path)\n",
    "    \n",
    "    zip_file_name = os.path.join(dest_path, url.split('/')[-1])\n",
    "    \n",
    "    if not os.path.exists(zip_file_name):\n",
    "        print(f\"Downloading {url}...\")\n",
    "        response = requests.get(url)\n",
    "        with open(zip_file_name, 'wb') as f:\n",
    "            f.write(response.content)\n",
    "        print(\"Download complete.\")\n",
    "    \n",
    "    print(f\"Extracting {zip_file_name}...\")\n",
    "    with zipfile.ZipFile(zip_file_name, 'r') as zip_ref:\n",
    "        zip_ref.extractall(dest_path)\n",
    "    print(\"Extraction complete.\")\n",
    "\n",
    "download_and_extract(\"https://github.com/smart-on-fhir/sample-bulk-fhir-datasets/archive/refs/heads/10-patients.zip\", \"data\")\n",
    "download_and_extract(\"https://github.com/smart-on-fhir/sample-bulk-fhir-datasets/archive/refs/heads/1000-patients.zip\", \"data\")"
   ]
  },
  {
   "cell_type": "markdown",
   "metadata": {},
   "source": [
    "# Register UDFs for Spark SQL"
   ]
  },
  {
   "cell_type": "code",
   "execution_count": null,
   "metadata": {},
   "outputs": [],
   "source": [
    "spark.udf.register(\"get_value\", get_value)\n",
    "spark.udf.register(\"get_all_values\", get_all_values)"
   ]
  },
  {
   "cell_type": "markdown",
   "metadata": {},
   "source": [
    "# Functionality Demonstration (Spark SQL)"
   ]
  },
  {
   "cell_type": "markdown",
   "metadata": {},
   "source": [
    "## Load small dataset"
   ]
  },
  {
   "cell_type": "code",
   "execution_count": 7,
   "metadata": {},
   "outputs": [
    {
     "name": "stdout",
     "output_type": "stream",
     "text": [
      "+--------------------+--------------------+-------+\n",
      "|            col_name|           data_type|comment|\n",
      "+--------------------+--------------------+-------+\n",
      "|             address|array<struct<city...|   NULL|\n",
      "|           birthDate|              string|   NULL|\n",
      "|       communication|array<struct<lang...|   NULL|\n",
      "|    deceasedDateTime|              string|   NULL|\n",
      "|           extension|array<struct<exte...|   NULL|\n",
      "|              gender|              string|   NULL|\n",
      "|                  id|              string|   NULL|\n",
      "|          identifier|array<struct<syst...|   NULL|\n",
      "|       maritalStatus|struct<coding:arr...|   NULL|\n",
      "|                meta|struct<profile:ar...|   NULL|\n",
      "|multipleBirthBoolean|             boolean|   NULL|\n",
      "|                name|array<struct<fami...|   NULL|\n",
      "|        resourceType|              string|   NULL|\n",
      "|             telecom|array<struct<syst...|   NULL|\n",
      "|                text|struct<div:string...|   NULL|\n",
      "+--------------------+--------------------+-------+\n",
      "\n",
      "-RECORD 0--------------------------------------------------------------------------------------------------------------------------------------------------------------------------------------------------------------------------------------------------------------------------------------------------------------------------------------------------------------------------------------------------------------------------------------------------------------------------------------------------------------------------------------------------------------------------------------------------------------------------------------------------------------------------------------------------------------------------------------------------------------------------------------------------------------------------------------------------------------------------------------------------------------------------------------------------------------------------------------------------------------\n",
      " address              | [{Emporia, US, [{[{latitude, 38.37796654358168}, {longitude, -96.17060814119407}], http://hl7.org/fhir/StructureDefinition/geolocation}], [633 Abernathy Landing], 66801, KS}]                                                                                                                                                                                                                                                                                                                                                                                                                                                                                                                                                                                                                                                                                                                                                                                                                 \n",
      " birthDate            | 1927-05-21                                                                                                                                                                                                                                                                                                                                                                                                                                                                                                                                                                                                                                                                                                                                                                                                                                                                                                                                                                                     \n",
      " communication        | [{{[{en-US, English (United States), urn:ietf:bcp:47}], English (United States)}}]                                                                                                                                                                                                                                                                                                                                                                                                                                                                                                                                                                                                                                                                                                                                                                                                                                                                                                             \n",
      " deceasedDateTime     | 1989-05-09T20:35:22-04:00                                                                                                                                                                                                                                                                                                                                                                                                                                                                                                                                                                                                                                                                                                                                                                                                                                                                                                                                                                      \n",
      " extension            | [{[{ombCategory, {2106-3, White, urn:oid:2.16.840.1.113883.6.238}, NULL}, {text, NULL, White}], http://hl7.org/fhir/us/core/StructureDefinition/us-core-race, NULL, NULL, NULL, NULL}, {[{ombCategory, {2186-5, Not Hispanic or Latino, urn:oid:2.16.840.1.113883.6.238}, NULL}, {text, NULL, Not Hispanic or Latino}], http://hl7.org/fhir/us/core/StructureDefinition/us-core-ethnicity, NULL, NULL, NULL, NULL}, {NULL, http://hl7.org/fhir/StructureDefinition/patient-mothersMaidenName, NULL, NULL, NULL, Harold594 VonRueden376}, {NULL, http://hl7.org/fhir/us/core/StructureDefinition/us-core-birthsex, NULL, F, NULL, NULL}, {NULL, http://hl7.org/fhir/StructureDefinition/patient-birthPlace, {Olathe, US, Kansas}, NULL, NULL, NULL}, {NULL, http://synthetichealth.github.io/synthea/disability-adjusted-life-years, NULL, NULL, 3.8227768159088433, NULL}, {NULL, http://synthetichealth.github.io/synthea/quality-adjusted-life-years, NULL, NULL, 57.177223184091154, NULL}] \n",
      " gender               | female                                                                                                                                                                                                                                                                                                                                                                                                                                                                                                                                                                                                                                                                                                                                                                                                                                                                                                                                                                                         \n",
      " id                   | 129c6ac7-8d06-89de-ad63-0204a93e76c3                                                                                                                                                                                                                                                                                                                                                                                                                                                                                                                                                                                                                                                                                                                                                                                                                                                                                                                                                           \n",
      " identifier           | [{https://github.com/synthetichealth/synthea, NULL, 129c6ac7-8d06-89de-ad63-0204a93e76c3}, {http://hospital.smarthealthit.org, {[{MR, Medical Record Number, http://terminology.hl7.org/CodeSystem/v2-0203}], Medical Record Number}, 129c6ac7-8d06-89de-ad63-0204a93e76c3}, {http://hl7.org/fhir/sid/us-ssn, {[{SS, Social Security Number, http://terminology.hl7.org/CodeSystem/v2-0203}], Social Security Number}, 999-94-5397}, {urn:oid:2.16.840.1.113883.4.3.25, {[{DL, Driver's license number, http://terminology.hl7.org/CodeSystem/v2-0203}], Driver's license number}, S99940903}, {http://standardhealthrecord.org/fhir/StructureDefinition/passportNumber, {[{PPN, Passport Number, http://terminology.hl7.org/CodeSystem/v2-0203}], Passport Number}, X53631011X}]                                                                                                                                                                                                              \n",
      " maritalStatus        | {[{M, Married, http://terminology.hl7.org/CodeSystem/v3-MaritalStatus}], Married}                                                                                                                                                                                                                                                                                                                                                                                                                                                                                                                                                                                                                                                                                                                                                                                                                                                                                                              \n",
      " meta                 | {[http://hl7.org/fhir/us/core/StructureDefinition/us-core-patient]}                                                                                                                                                                                                                                                                                                                                                                                                                                                                                                                                                                                                                                                                                                                                                                                                                                                                                                                            \n",
      " multipleBirthBoolean | false                                                                                                                                                                                                                                                                                                                                                                                                                                                                                                                                                                                                                                                                                                                                                                                                                                                                                                                                                                                          \n",
      " name                 | [{Medhurst46, [Sumiko254, Larue605], [Mrs.], official}, {Cummerata161, [Sumiko254, Larue605], [Mrs.], maiden}]                                                                                                                                                                                                                                                                                                                                                                                                                                                                                                                                                                                                                                                                                                                                                                                                                                                                                 \n",
      " resourceType         | Patient                                                                                                                                                                                                                                                                                                                                                                                                                                                                                                                                                                                                                                                                                                                                                                                                                                                                                                                                                                                        \n",
      " telecom              | [{phone, home, 555-810-7203}]                                                                                                                                                                                                                                                                                                                                                                                                                                                                                                                                                                                                                                                                                                                                                                                                                                                                                                                                                                  \n",
      " text                 | {<div xmlns=\"http://www.w3.org/1999/xhtml\">Generated by <a href=\"https://github.com/synthetichealth/synthea\">Synthea</a>.Version identifier: dd1e3be\\n .   Person seed: 6608123172186290765  Population seed: 54321</div>, generated}                                                                                                                                                                                                                                                                                                                                                                                                                                                                                                                                                                                                                                                                                                                                                          \n",
      "\n"
     ]
    }
   ],
   "source": [
    "from pyspark.sql.functions import col, from_json\n",
    "\n",
    "# Load the patient data as a DataFrame of strings\n",
    "patient_df = spark.read.json(\"data/sample-bulk-fhir-datasets-10-patients/Patient.000.ndjson\")\n",
    "\n",
    "patient_df.createOrReplaceTempView(\"patients\")\n",
    "\n",
    "spark.sql(\"DESCRIBE patients\").show()\n",
    "spark.sql(\"SELECT * FROM patients LIMIT 1\").show(truncate=False, vertical=True)"
   ]
  },
  {
   "cell_type": "markdown",
   "metadata": {},
   "source": [
    "## Demonstrate `get_value`"
   ]
  },
  {
   "cell_type": "code",
   "execution_count": 25,
   "metadata": {},
   "outputs": [
    {
     "name": "stdout",
     "output_type": "stream",
     "text": [
      "+--------------------+\n",
      "|        meta_profile|\n",
      "+--------------------+\n",
      "|['http://hl7.org/...|\n",
      "|['http://hl7.org/...|\n",
      "|['http://hl7.org/...|\n",
      "|['http://hl7.org/...|\n",
      "|['http://hl7.org/...|\n",
      "|['http://hl7.org/...|\n",
      "|['http://hl7.org/...|\n",
      "|['http://hl7.org/...|\n",
      "|['http://hl7.org/...|\n",
      "|['http://hl7.org/...|\n",
      "|['http://hl7.org/...|\n",
      "|['http://hl7.org/...|\n",
      "|['http://hl7.org/...|\n",
      "+--------------------+\n",
      "\n"
     ]
    }
   ],
   "source": [
    "spark.sql(\"SELECT get_value(meta, '$.profile') AS meta_profile FROM patients\").show()"
   ]
  },
  {
   "cell_type": "markdown",
   "metadata": {},
   "source": [
    "## Demonstrate `get_all_values`"
   ]
  },
  {
   "cell_type": "code",
   "execution_count": 26,
   "metadata": {},
   "outputs": [
    {
     "name": "stdout",
     "output_type": "stream",
     "text": [
      "+------------------------------------------------------+\n",
      "|given_names                                           |\n",
      "+------------------------------------------------------+\n",
      "|[['Sumiko254', 'Larue605'], ['Sumiko254', 'Larue605']]|\n",
      "|[['Devin82', 'Anibal473']]                            |\n",
      "|[['Denis399', 'Lincoln623']]                          |\n",
      "|[['Yvone889', 'Janina163'], ['Yvone889', 'Janina163']]|\n",
      "|[['Marine542', 'Ai120'], ['Marine542', 'Ai120']]      |\n",
      "|[['An125', 'Suanne858'], ['An125', 'Suanne858']]      |\n",
      "|[['Rocky100']]                                        |\n",
      "|[['Gladys682'], ['Gladys682']]                        |\n",
      "|[['Elisa944', 'Donetta1'], ['Elisa944', 'Donetta1']]  |\n",
      "|[['Kasandra729']]                                     |\n",
      "|[['Corrin41', 'Sau887'], ['Corrin41', 'Sau887']]      |\n",
      "|[['Augustus49', 'Neville893']]                        |\n",
      "|[['Karena692']]                                       |\n",
      "+------------------------------------------------------+\n",
      "\n"
     ]
    }
   ],
   "source": [
    "spark.sql(\"SELECT get_all_values(name, '$.[*].given') AS given_names FROM patients\").show(truncate=False)"
   ]
  },
  {
   "cell_type": "markdown",
   "metadata": {},
   "source": [
    "## Demonstrate `makeStructUpdateUDF`"
   ]
  },
  {
   "cell_type": "code",
   "execution_count": 8,
   "metadata": {},
   "outputs": [
    {
     "name": "stdout",
     "output_type": "stream",
     "text": [
      "+-------------+----------------------+\n",
      "|         text|updated_marital_status|\n",
      "+-------------+----------------------+\n",
      "|      Married|               Married|\n",
      "|Never Married|               Married|\n",
      "|Never Married|               Married|\n",
      "|      Married|               Married|\n",
      "|      Married|               Married|\n",
      "|      Married|               Married|\n",
      "|      Married|               Married|\n",
      "|     Divorced|               Married|\n",
      "|      Married|               Married|\n",
      "|Never Married|               Married|\n",
      "|      Married|               Married|\n",
      "|Never Married|               Married|\n",
      "|Never Married|               Married|\n",
      "+-------------+----------------------+\n",
      "\n"
     ]
    },
    {
     "name": "stderr",
     "output_type": "stream",
     "text": [
      "                                                                                \r"
     ]
    }
   ],
   "source": [
    "# For makeStructUpdateUDF, we need to create a specific UDF and register it\n",
    "def update_marital_status(value, parent, field):\n",
    "    return \"Married\"\n",
    "\n",
    "update_marital_status_udf = makeStructUpdateUDF(\"$.text\", update_marital_status, patient_df.schema[\"maritalStatus\"].dataType)\n",
    "spark.udf.register(\"update_marital_status_sql\", update_marital_status_udf)\n",
    "\n",
    "spark.sql(\"\"\"\n",
    "SELECT \n",
    "    maritalStatus.text,\n",
    "    update_marital_status_sql(maritalStatus).text as updated_marital_status\n",
    "FROM patients\n",
    "\"\"\").show()"
   ]
  },
  {
   "cell_type": "markdown",
   "metadata": {},
   "source": [
    "## Demonstrate Joining with `get_value`"
   ]
  },
  {
   "cell_type": "code",
   "execution_count": null,
   "metadata": {},
   "outputs": [
    {
     "name": "stderr",
     "output_type": "stream",
     "text": [
      "[Stage 27:>                                                         (0 + 1) / 1]\r"
     ]
    },
    {
     "name": "stdout",
     "output_type": "stream",
     "text": [
      "+--------------------+--------------------+\n",
      "|          patient_id|         patient_ref|\n",
      "+--------------------+--------------------+\n",
      "|129c6ac7-8d06-89d...|Patient/129c6ac7-...|\n",
      "|cbc86e51-9eca-385...|Patient/cbc86e51-...|\n",
      "|6a4160eb-a793-2f8...|Patient/6a4160eb-...|\n",
      "|7bc002fa-dc52-17d...|Patient/7bc002fa-...|\n",
      "|a5cb8ce9-cec6-6b2...|Patient/a5cb8ce9-...|\n",
      "|79a66c97-6131-321...|Patient/79a66c97-...|\n",
      "|79a66c97-6131-321...|Patient/79a66c97-...|\n",
      "|a4a401d1-a46a-eb4...|Patient/a4a401d1-...|\n",
      "|79a66c97-6131-321...|Patient/79a66c97-...|\n",
      "|7bc002fa-dc52-17d...|Patient/7bc002fa-...|\n",
      "|6a4160eb-a793-2f8...|Patient/6a4160eb-...|\n",
      "|129c6ac7-8d06-89d...|Patient/129c6ac7-...|\n",
      "|79a66c97-6131-321...|Patient/79a66c97-...|\n",
      "|79a66c97-6131-321...|Patient/79a66c97-...|\n",
      "|a4a401d1-a46a-eb4...|Patient/a4a401d1-...|\n",
      "|cbc86e51-9eca-385...|Patient/cbc86e51-...|\n",
      "|ca15b832-01e4-41d...|Patient/ca15b832-...|\n",
      "|79a66c97-6131-321...|Patient/79a66c97-...|\n",
      "|6a4160eb-a793-2f8...|Patient/6a4160eb-...|\n",
      "|6a4160eb-a793-2f8...|Patient/6a4160eb-...|\n",
      "+--------------------+--------------------+\n",
      "only showing top 20 rows\n"
     ]
    },
    {
     "name": "stderr",
     "output_type": "stream",
     "text": [
      "                                                                                \r"
     ]
    }
   ],
   "source": [
    "# Load the condition data\n",
    "condition_df = spark.read.json(\"data/sample-bulk-fhir-datasets-10-patients/Condition.000.ndjson\")\n",
    "\n",
    "condition_df.createOrReplaceTempView(\"conditions\")\n",
    "\n",
    "spark.sql(\"\"\"\n",
    "SELECT \n",
    "    p.patient_id, \n",
    "    c.patient_ref\n",
    "FROM \n",
    "    (SELECT id as patient_id FROM patients) p\n",
    "JOIN \n",
    "    (SELECT get_value(subject, '$.reference') as patient_ref, * FROM conditions) c\n",
    "ON p.patient_id = split(c.patient_ref, '/')[1]\n",
    "\"\"\").show()"
   ]
  },
  {
   "cell_type": "markdown",
   "metadata": {},
   "source": [
    "# Performance Tests (Spark SQL)"
   ]
  },
  {
   "cell_type": "code",
   "execution_count": 29,
   "metadata": {},
   "outputs": [
    {
     "name": "stdout",
     "output_type": "stream",
     "text": [
      "Large dataset has 1144 rows.\n"
     ]
    }
   ],
   "source": [
    "# Load the large patient data\n",
    "large_patient_df = spark.read.json(\"data/sample-bulk-fhir-datasets-1000-patients/Patient.000.ndjson\")\n",
    "\n",
    "large_patient_df.createOrReplaceTempView(\"large_patients\")\n",
    "\n",
    "print(f\"Large dataset has {large_patient_df.count()} rows.\")"
   ]
  },
  {
   "cell_type": "markdown",
   "metadata": {},
   "source": [
    "## Performance test for `get_value`"
   ]
  },
  {
   "cell_type": "code",
   "execution_count": 31,
   "metadata": {},
   "outputs": [
    {
     "name": "stderr",
     "output_type": "stream",
     "text": [
      "[Stage 33:>                                                         (0 + 1) / 1]\r"
     ]
    },
    {
     "name": "stdout",
     "output_type": "stream",
     "text": [
      "Time taken for get_value on large dataset: 4.48 seconds\n"
     ]
    },
    {
     "name": "stderr",
     "output_type": "stream",
     "text": [
      "                                                                                \r"
     ]
    }
   ],
   "source": [
    "import time\n",
    "\n",
    "start_time = time.time()\n",
    "\n",
    "_ = spark.sql(\"SELECT get_value(meta, '$.profile') AS meta_profile FROM large_patients\").toPandas()\n",
    "\n",
    "end_time = time.time()\n",
    "print(f\"Time taken for get_value on large dataset: {end_time - start_time:.2f} seconds\")"
   ]
  },
  {
   "cell_type": "markdown",
   "metadata": {},
   "source": [
    "## Performance test for `get_all_values`"
   ]
  },
  {
   "cell_type": "code",
   "execution_count": 32,
   "metadata": {},
   "outputs": [
    {
     "name": "stderr",
     "output_type": "stream",
     "text": [
      "[Stage 34:>                                                         (0 + 1) / 1]\r"
     ]
    },
    {
     "name": "stdout",
     "output_type": "stream",
     "text": [
      "Time taken for get_all_values on large dataset: 4.53 seconds\n"
     ]
    },
    {
     "name": "stderr",
     "output_type": "stream",
     "text": [
      "                                                                                \r"
     ]
    }
   ],
   "source": [
    "import time\n",
    "\n",
    "start_time = time.time()\n",
    "\n",
    "_ = spark.sql(\"SELECT get_all_values(name, '$.[*].given') AS given_names FROM large_patients\").toPandas()\n",
    "\n",
    "end_time = time.time()\n",
    "print(f\"Time taken for get_all_values on large dataset: {end_time - start_time:.2f} seconds\")"
   ]
  },
  {
   "cell_type": "markdown",
   "metadata": {},
   "source": [
    "## Performance test for `makeStructUpdateUDF`"
   ]
  },
  {
   "cell_type": "code",
   "execution_count": 34,
   "metadata": {},
   "outputs": [
    {
     "name": "stdout",
     "output_type": "stream",
     "text": [
      "Time taken for makeStructUpdateUDF on large dataset: 0.15 seconds\n"
     ]
    },
    {
     "name": "stderr",
     "output_type": "stream",
     "text": [
      "25/08/10 22:58:41 WARN SimpleFunctionRegistry: The function update_marital_status_sql_large replaced a previously registered function.\n"
     ]
    }
   ],
   "source": [
    "import time\n",
    "\n",
    "start_time = time.time()\n",
    "\n",
    "update_marital_status_udf_large = makeStructUpdateUDF(\"$.text\", update_marital_status, large_patient_df.schema[\"maritalStatus\"].dataType)\n",
    "spark.udf.register(\"update_marital_status_sql_large\", update_marital_status_udf_large)\n",
    "\n",
    "_ = spark.sql(\"\"\"\n",
    "SELECT \n",
    "    maritalStatus.text as original_marital_status,\n",
    "    update_marital_status_sql_large(maritalStatus).text as updated_marital_status\n",
    "FROM large_patients\n",
    "\"\"\").toPandas()\n",
    "\n",
    "end_time = time.time()\n",
    "print(f\"Time taken for makeStructUpdateUDF on large dataset: {end_time - start_time:.2f} seconds\")"
   ]
  }
 ],
 "metadata": {
  "kernelspec": {
   "display_name": "Python 3",
   "language": "python",
   "name": "python3"
  },
  "language_info": {
   "codemirror_mode": {
    "name": "ipython",
    "version": 3
   },
   "file_extension": ".py",
   "mimetype": "text/x-python",
   "name": "python",
   "nbconvert_exporter": "python",
   "pygments_lexer": "ipython3",
   "version": "3.9.12"
  }
 },
 "nbformat": 4,
 "nbformat_minor": 4
}
